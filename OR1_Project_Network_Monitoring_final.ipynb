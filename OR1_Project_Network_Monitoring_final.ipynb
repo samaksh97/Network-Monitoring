{
 "cells": [
  {
   "cell_type": "code",
   "execution_count": null,
   "metadata": {},
   "outputs": [],
   "source": [
    "import pandas as pd\n",
    "import numpy as np\n",
    "import matplotlib.pyplot as plt\n",
    "from pulp import *"
   ]
  },
  {
   "cell_type": "code",
   "execution_count": null,
   "metadata": {},
   "outputs": [],
   "source": [
    "path_to_Gurobi = 'C:/Program Files/Gurobi/win64/bin/gurobi_cl.exe'"
   ]
  },
  {
   "cell_type": "markdown",
   "metadata": {},
   "source": [
    "### Part a,b -  Minimize number of sensors while covering all pipes"
   ]
  },
  {
   "cell_type": "code",
   "execution_count": null,
   "metadata": {},
   "outputs": [],
   "source": [
    "# Parameters\n",
    "\n",
    "f = pd.read_csv('Detection_Matrix.csv',header = None)   ## Detection Matrix\n",
    "f.head()"
   ]
  },
  {
   "cell_type": "code",
   "execution_count": null,
   "metadata": {},
   "outputs": [],
   "source": [
    "## Decision Variables\n",
    "\n",
    "V = [i for i in range(f.shape[1])]\n",
    "sv = LpVariable.dicts(\"s\", V, 0, cat='Binary')   # Decision to place sensor at node 'v'"
   ]
  },
  {
   "cell_type": "code",
   "execution_count": null,
   "metadata": {},
   "outputs": [],
   "source": [
    "# Define problem (objective function)\n",
    "\n",
    "prob = LpProblem(\"SensorsAssignment\", LpMinimize)\n",
    "prob += lpSum([sv[v] for v in V])"
   ]
  },
  {
   "cell_type": "code",
   "execution_count": null,
   "metadata": {},
   "outputs": [],
   "source": [
    "# Constraints\n",
    "\n",
    "# Each pipe must have atleast one sensort to detect burst\n",
    "E = f.shape[0]\n",
    "for e in range(E):\n",
    "    prob += lpSum([f.iloc[e,v]*sv[v] for v in V]) >= 1"
   ]
  },
  {
   "cell_type": "code",
   "execution_count": null,
   "metadata": {},
   "outputs": [],
   "source": [
    "# Check solution status\n",
    "prob.solve(GUROBI_CMD(path=path_to_Gurobi,options=[(\"MIPGap\", 0)]))\n",
    "print('Solution status: {}'.format(LpStatus[prob.status]))"
   ]
  },
  {
   "cell_type": "code",
   "execution_count": null,
   "metadata": {},
   "outputs": [],
   "source": [
    "a_sensors = []\n",
    "for v in V:\n",
    "    if sv[v].varValue == 1:\n",
    "        a_sensors.append(v)\n",
    "        print(f'Node {v} has a sensor on it.')"
   ]
  },
  {
   "cell_type": "code",
   "execution_count": null,
   "metadata": {},
   "outputs": [],
   "source": [
    "print(f'Total number of sensors: {prob.objective.value()}')"
   ]
  },
  {
   "cell_type": "markdown",
   "metadata": {},
   "source": [
    "### Part c,d - Maximize expected number of pipe bursts detected"
   ]
  },
  {
   "cell_type": "code",
   "execution_count": null,
   "metadata": {},
   "outputs": [],
   "source": [
    "### We want to maximize the expected number of pipe bursts detected for different values of number of available sensors ranging from 0 to 20\n",
    "\n",
    "obj_vals = []\n",
    "nodes = {}\n",
    "B = np.arange(21)\n",
    "for b in B:\n",
    "\n",
    "    prob = LpProblem(\"NetworkMonitor\", LpMaximize)\n",
    "\n",
    "    # Probability of pipe burst\n",
    "    p=0.1\n",
    "    \n",
    "    # DECISION VARIABLES\n",
    "\n",
    "    # \"sv\" representing whether sensor is placed at node 'v'\n",
    "    sv = LpVariable.dicts(\"s\", V, 0, cat='Binary')\n",
    "    #  \"y\" representing whether a burst is detected at pipe \"e\" \n",
    "    y = LpVariable.dicts(\"y\", [e for e in range(E)], 0, cat='Binary')\n",
    "\n",
    "    # OBJECTIVE FUNCTION\n",
    "    prob += lpSum([y[e]*p for e in range(E)])\n",
    "    \n",
    "    # CONSTRAINTS\n",
    "    # 1. Maximum number of sensors that can be placed is 'b'\n",
    "    prob += lpSum([sv[v] for v in V]) <= b\n",
    "    # 2. Pipe burst should not be detected if there are no sensors placed to detect it\n",
    "    for e in range(E):\n",
    "        prob += lpSum([f.iloc[e,v]*sv[v] for v in V]) >= y[e]\n",
    "    \n",
    "    # SOLVE\n",
    "    prob.solve(GUROBI_CMD(path=path_to_Gurobi,options=[(\"MIPGap\", 0)]))\n",
    "    \n",
    "    # Identify nodes where the sensors are placed   \n",
    "    sensors = []\n",
    "    for v in V:\n",
    "        if sv[v].varValue == 1:\n",
    "            sensors.append(v)\n",
    "    nodes[b] = sensors\n",
    "    obj_vals.append(prob.objective.value()) \n",
    "\n",
    "    print(f'The expected number of pipes bursts detected for {b} sensors placed is: {prob.objective.value()}')"
   ]
  },
  {
   "cell_type": "code",
   "execution_count": null,
   "metadata": {},
   "outputs": [],
   "source": [
    "# Plotting\n",
    "\n",
    "plt.plot(B, obj_vals, label='Optimal Value', marker='o', linestyle='-')\n",
    "plt.title('Optimal Value vs Number of Sensors')\n",
    "plt.xlabel('Number of Sensors')\n",
    "plt.ylabel('Expected number of pipe bursts detected')\n",
    "plt.legend()\n",
    "plt.grid(True)\n",
    "plt.show()"
   ]
  },
  {
   "cell_type": "markdown",
   "metadata": {},
   "source": [
    "### e) Iterative algorithm to maximize expected number of pipe bursts detected"
   ]
  },
  {
   "cell_type": "markdown",
   "metadata": {},
   "source": [
    "##### We can use a greedy algorithm to iteratively determine the Top 'b' pipes which cover the most sensors"
   ]
  },
  {
   "cell_type": "code",
   "execution_count": null,
   "metadata": {},
   "outputs": [],
   "source": [
    "total_pipe_bursts_detected = []\n",
    "\n",
    "for b in B:\n",
    "    f_new = f\n",
    "    pipe_bursts_detected = 0\n",
    "    for _ in range(b):\n",
    "        # Calculate the number of pipes covered by each node\n",
    "        col_sums = f_new.sum(axis=0)\n",
    "        \n",
    "        # Find the node covering the most pipes\n",
    "        max_col_index = col_sums.idxmax()\n",
    "        \n",
    "        # Drop the pipes already covered from the node identified\n",
    "        f_new = f_new[f_new[max_col_index] != 1]\n",
    "        # Drop the data related to the node identified to identify the next best node\n",
    "        f_new = f_new.drop(columns = [max_col_index])\n",
    "    \n",
    "    pipe_bursts_detected = f.shape[0] - f_new.shape[0]\n",
    "    total_pipe_bursts_detected.append(pipe_bursts_detected)\n",
    "    print(f\"The expected pipe bursts detected for {b} sensors are {pipe_bursts_detected}\")"
   ]
  },
  {
   "cell_type": "code",
   "execution_count": null,
   "metadata": {},
   "outputs": [],
   "source": [
    "# Plotting\n",
    "\n",
    "plt.plot(B, total_pipe_bursts_detected, label='Optimal Value', marker='o', linestyle='-')\n",
    "plt.title('Optimal Value vs Number of Sensors')\n",
    "plt.xlabel('Number of Sensors')\n",
    "plt.ylabel('Expected number of pipe bursts detected')\n",
    "plt.legend()\n",
    "plt.grid(True)\n",
    "plt.show()"
   ]
  },
  {
   "cell_type": "markdown",
   "metadata": {},
   "source": [
    "### Part f,g - Minimize highest criticality of a pipe that is not detected"
   ]
  },
  {
   "cell_type": "code",
   "execution_count": null,
   "metadata": {},
   "outputs": [],
   "source": [
    "# Parameters - criticality matrix\n",
    "\n",
    "w = pd.read_csv(\"Criticality.csv\", header=None)\n",
    "w = w[0].values\n",
    "w"
   ]
  },
  {
   "cell_type": "code",
   "execution_count": null,
   "metadata": {},
   "outputs": [],
   "source": [
    "obj_vals = []\n",
    "nodes = {}\n",
    "\n",
    "for b in B:\n",
    "    # Problem\n",
    "    prob = LpProblem(\"NetworkMonitor\", LpMinimize)\n",
    "    \n",
    "    # DECISION VARIABLES\n",
    "\n",
    "    # sensor 's' is placed at node 'v' or not\n",
    "    sv = LpVariable.dicts(\"s\", V, 0, cat='Binary')\n",
    "    # Burst at pipe 'e' is detected or not\n",
    "    y = LpVariable.dicts(\"y\", [e for e in range(E)], 0, cat='Binary')\n",
    "    # 'z' represents the highest criticality score for all the pipes where burst is not detected\n",
    "    z = LpVariable(\"z\", lowBound = 0, cat='Continuous')\n",
    "\n",
    "    # OBJECTIVE FUNCTION\n",
    "    prob += z\n",
    "    \n",
    "    # CONSTRAINTS\n",
    "\n",
    "    #  1. Maximum number of sensors that can be placed is 'b'\n",
    "    prob += lpSum([sv[v] for v in V]) <= b\n",
    "\n",
    "    # 2. The value of 'z' should be greater than or equal to all the criticality scores for all the pipes where burst is not detected\n",
    "    # 3. Pipe burst should not be detected if there are no sensors placed to detect it\n",
    "    for e in range(E):\n",
    "        prob += z >= (1-y[e])*w[e]\n",
    "        prob +=  lpSum([f.iloc[e,v]*sv[v] for v in V]) >= y[e]\n",
    "    \n",
    "    # Solve\n",
    "    prob.solve(GUROBI_CMD(path=path_to_Gurobi,options=[(\"MIPGap\", 0)]))\n",
    "    \n",
    "    # Identify nodes where the sensors are placed and \n",
    "    sensors = []\n",
    "    for v in V:\n",
    "        if sv[v].varValue == 1:\n",
    "            sensors.append(v)\n",
    "    nodes[b] = sensors\n",
    "    obj_vals.append(prob.objective.value())\n",
    "    print(f'The expected number of pipes bursts detected for {b} sensors placed is: {obj_vals}')"
   ]
  }
 ],
 "metadata": {
  "kernelspec": {
   "display_name": "Python 3",
   "language": "python",
   "name": "python3"
  },
  "language_info": {
   "codemirror_mode": {
    "name": "ipython",
    "version": 3
   },
   "file_extension": ".py",
   "mimetype": "text/x-python",
   "name": "python",
   "nbconvert_exporter": "python",
   "pygments_lexer": "ipython3",
   "version": "3.7.9"
  }
 },
 "nbformat": 4,
 "nbformat_minor": 2
}
